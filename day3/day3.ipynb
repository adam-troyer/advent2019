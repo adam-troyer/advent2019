{
 "cells": [
  {
   "cell_type": "markdown",
   "metadata": {},
   "source": [
    "# Part 1"
   ]
  },
  {
   "cell_type": "code",
   "execution_count": 14,
   "metadata": {},
   "outputs": [],
   "source": [
    "class Wire:\n",
    "    def __init__(self, movements, debug=False):\n",
    "        self.path = [(0, 0)]\n",
    "        self.debug = debug\n",
    "        for mvmt in movements.split(\",\"):\n",
    "            self.move(mvmt)\n",
    "    \n",
    "    @staticmethod\n",
    "    def _generate_steps(start_pt, end_pt, debug=False):\n",
    "        \"\"\"Return a list of the points crossed moving from start_pt to end_pt \"\"\" \n",
    "        if start_pt[0] != end_pt[0]:\n",
    "            # Movement on x-axis\n",
    "            y = start_pt[1]\n",
    "            dir = 1 if end_pt[0] > start_pt[0] else -1\n",
    "            steps = [(i, y) for i in range(start_pt[0]+dir, end_pt[0], dir)]\n",
    "        else:\n",
    "            # Movement on y-axis\n",
    "            x = start_pt[0]\n",
    "            dir = 1 if end_pt[1] > start_pt[1] else -1\n",
    "            steps = [(x, i) for i in range(start_pt[1]+dir, end_pt[1], dir)]\n",
    "        if debug:\n",
    "            print(f'Steps between {start_pt} and {end_pt}: {steps}')\n",
    "        return steps\n",
    "    \n",
    "    def move(self, instruction):\n",
    "        \"\"\"Move the wire per instruction. Update self.path with all points crossed.\"\"\"\n",
    "        num_spaces = int(instruction[1:])\n",
    "        direction = instruction[0]\n",
    "        start = self.path[-1]\n",
    "        if direction == 'U':\n",
    "            end = (start[0], start[1]+num_spaces)\n",
    "        elif direction == 'D':\n",
    "            end = (start[0], start[1]-num_spaces)\n",
    "        elif direction == 'R':\n",
    "            end = (start[0]+num_spaces, start[1])\n",
    "        else:\n",
    "            end = (start[0]-num_spaces, start[1])\n",
    "        steps = self._generate_steps(start, end, self.debug)\n",
    "        self.path.extend(steps + [end])\n",
    "        if self.debug:\n",
    "            print(f'Path: {self.path}')\n",
    "    \n",
    "    @staticmethod\n",
    "    def find_intersections(wire1, wire2, debug=False):\n",
    "        \"\"\"Find all intersections between wire1 and wire2. Return (crossing points, distances, min distance).\"\"\"\n",
    "        \n",
    "        # Convert paths to sets then find the intersections to find crossings. This should be\n",
    "        # way faster than just walking through the lists looking for matches.\n",
    "        # It's ok if set(path) removes duplicates in a given path, since all we care about is single\n",
    "        # instances where an element in wire1's path is also in wire2's path\n",
    "        crossings = set(wire1.path).intersection(wire2.path)\n",
    "        # Don't care about the crossing at (0, 0)\n",
    "        crossings.remove((0,0))\n",
    "        \n",
    "        # Distance calculated using absolute value of points so that points on the negative axes get added\n",
    "        # instead of subtracted\n",
    "        distances = [sum(abs(v) for v in point) for point in crossings]\n",
    "        if debug:\n",
    "            print(f'Crossings: {crossings}\\nTotal crossings: {len(crossings)}\\nDistances: {distances}')\n",
    "        return crossings, distances, min(distances)"
   ]
  },
  {
   "cell_type": "code",
   "execution_count": 15,
   "metadata": {},
   "outputs": [
    {
     "name": "stdout",
     "output_type": "stream",
     "text": [
      "Steps between (0, 0) and (8, 0): [(1, 0), (2, 0), (3, 0), (4, 0), (5, 0), (6, 0), (7, 0)]\n",
      "Path: [(0, 0), (1, 0), (2, 0), (3, 0), (4, 0), (5, 0), (6, 0), (7, 0), (8, 0)]\n",
      "Steps between (8, 0) and (8, 5): [(8, 1), (8, 2), (8, 3), (8, 4)]\n",
      "Path: [(0, 0), (1, 0), (2, 0), (3, 0), (4, 0), (5, 0), (6, 0), (7, 0), (8, 0), (8, 1), (8, 2), (8, 3), (8, 4), (8, 5)]\n",
      "Steps between (8, 5) and (3, 5): [(7, 5), (6, 5), (5, 5), (4, 5)]\n",
      "Path: [(0, 0), (1, 0), (2, 0), (3, 0), (4, 0), (5, 0), (6, 0), (7, 0), (8, 0), (8, 1), (8, 2), (8, 3), (8, 4), (8, 5), (7, 5), (6, 5), (5, 5), (4, 5), (3, 5)]\n",
      "Steps between (3, 5) and (3, 2): [(3, 4), (3, 3)]\n",
      "Path: [(0, 0), (1, 0), (2, 0), (3, 0), (4, 0), (5, 0), (6, 0), (7, 0), (8, 0), (8, 1), (8, 2), (8, 3), (8, 4), (8, 5), (7, 5), (6, 5), (5, 5), (4, 5), (3, 5), (3, 4), (3, 3), (3, 2)]\n"
     ]
    }
   ],
   "source": [
    "# First example, wire 1\n",
    "move1 = 'R8,U5,L5,D3'\n",
    "wire1 = Wire(movements=move1, debug=True)"
   ]
  },
  {
   "cell_type": "code",
   "execution_count": 16,
   "metadata": {},
   "outputs": [
    {
     "name": "stdout",
     "output_type": "stream",
     "text": [
      "Steps between (0, 0) and (0, 7): [(0, 1), (0, 2), (0, 3), (0, 4), (0, 5), (0, 6)]\n",
      "Path: [(0, 0), (0, 1), (0, 2), (0, 3), (0, 4), (0, 5), (0, 6), (0, 7)]\n",
      "Steps between (0, 7) and (6, 7): [(1, 7), (2, 7), (3, 7), (4, 7), (5, 7)]\n",
      "Path: [(0, 0), (0, 1), (0, 2), (0, 3), (0, 4), (0, 5), (0, 6), (0, 7), (1, 7), (2, 7), (3, 7), (4, 7), (5, 7), (6, 7)]\n",
      "Steps between (6, 7) and (6, 3): [(6, 6), (6, 5), (6, 4)]\n",
      "Path: [(0, 0), (0, 1), (0, 2), (0, 3), (0, 4), (0, 5), (0, 6), (0, 7), (1, 7), (2, 7), (3, 7), (4, 7), (5, 7), (6, 7), (6, 6), (6, 5), (6, 4), (6, 3)]\n",
      "Steps between (6, 3) and (2, 3): [(5, 3), (4, 3), (3, 3)]\n",
      "Path: [(0, 0), (0, 1), (0, 2), (0, 3), (0, 4), (0, 5), (0, 6), (0, 7), (1, 7), (2, 7), (3, 7), (4, 7), (5, 7), (6, 7), (6, 6), (6, 5), (6, 4), (6, 3), (5, 3), (4, 3), (3, 3), (2, 3)]\n"
     ]
    }
   ],
   "source": [
    "# First example, wire 2\n",
    "move2 = 'U7,R6,D4,L4'\n",
    "wire2 = Wire(movements=move2, debug=True)"
   ]
  },
  {
   "cell_type": "code",
   "execution_count": 17,
   "metadata": {},
   "outputs": [
    {
     "name": "stdout",
     "output_type": "stream",
     "text": [
      "Crossings: {(3, 3), (6, 5)}\n",
      "Total crossings: 2\n",
      "Distances: [6, 11]\n",
      "6\n"
     ]
    }
   ],
   "source": [
    "# First example results. Correct answer is crossing at (3,3), distance = 6\n",
    "print(Wire.find_intersections(wire1, wire2, debug=True)[2])"
   ]
  },
  {
   "cell_type": "code",
   "execution_count": 18,
   "metadata": {},
   "outputs": [
    {
     "name": "stdout",
     "output_type": "stream",
     "text": [
      "Crossings: {(158, -12), (146, 46), (155, 4), (155, 11)}\n",
      "Total crossings: 4\n",
      "Distances: [170, 192, 159, 166]\n",
      "159\n"
     ]
    }
   ],
   "source": [
    "# Second example. Distance = 159\n",
    "wire1 = Wire('R75,D30,R83,U83,L12,D49,R71,U7,L72')\n",
    "wire2 = Wire('U62,R66,U55,R34,D71,R55,D58,R83')\n",
    "print(Wire.find_intersections(wire1, wire2, debug=True)[2])"
   ]
  },
  {
   "cell_type": "code",
   "execution_count": 19,
   "metadata": {},
   "outputs": [
    {
     "name": "stdout",
     "output_type": "stream",
     "text": [
      "Crossings: {(107, 71), (157, 18), (124, 11), (107, 47), (107, 51)}\n",
      "Total crossings: 5\n",
      "Distances: [178, 175, 135, 154, 158]\n",
      "135\n"
     ]
    }
   ],
   "source": [
    "# Third example. Distance = 135\n",
    "wire1 = Wire('R98,U47,R26,D63,R33,U87,L62,D20,R33,U53,R51')\n",
    "wire2 = Wire('U98,R91,D20,R16,D67,R40,U7,R15,U6,R7')\n",
    "print(Wire.find_intersections(wire1, wire2, debug=True)[2])"
   ]
  },
  {
   "cell_type": "code",
   "execution_count": 20,
   "metadata": {},
   "outputs": [
    {
     "name": "stdout",
     "output_type": "stream",
     "text": [
      "Crossings: {(6210, -3834), (5242, -2310), (5658, -2214), (5242, -2336), (4240, -1117), (5087, -2002), (4143, -3904), (5450, -1492), (6722, -4214), (5242, -2363), (6618, -3042), (4240, -1131), (4522, -3564), (4240, -1676), (6067, -3126), (5340, -2297), (4691, -3564), (6100, -2930), (6210, -4079), (5242, -2446), (5087, -1855), (5421, -1492), (5996, -2930), (4318, -1131), (6835, -2527), (4240, -1730), (6210, -3928), (6365, -4214), (6709, -2082), (5024, -2363), (6100, -3834), (5162, -1855), (5165, -2446), (6100, -3675), (5672, -1882), (5658, -2297), (5672, -2214), (4737, -1676), (5165, -2336), (5084, -3035), (5165, -2310), (4143, -4417), (4318, -1272), (4514, -1676), (6067, -2930), (6100, -3126), (5165, -2363), (5447, -2544), (6311, -4214), (5996, -3126), (6927, -3698), (6210, -3814), (5447, -2924), (6100, -3814), (6210, -3920), (6835, -2903), (5084, -3426), (5024, -2310), (5643, -3733), (6001, -3716), (6927, -3454), (5024, -2120), (4240, -1272), (6835, -2492), (5102, -1492), (5162, -2002), (5672, -2297), (6835, -2730), (5242, -2170), (6835, -2443)}\n",
      "Total crossings: 70\n",
      "Distances: [10044, 7552, 7872, 7578, 5357, 7089, 8047, 6942, 10936, 7605, 9660, 5371, 8086, 5916, 9193, 7637, 8255, 9030, 10289, 7688, 6942, 6913, 8926, 5449, 9362, 5970, 10138, 10579, 8791, 7387, 9934, 7017, 7611, 9775, 7554, 7955, 7886, 6413, 7501, 8119, 7475, 8560, 5590, 6190, 8997, 9226, 7528, 7991, 10525, 9122, 10625, 10024, 8371, 9914, 10130, 9738, 8510, 7334, 9376, 9717, 10381, 7144, 5512, 9327, 6594, 7164, 7969, 9565, 7412, 9278]\n",
      "5357\n"
     ]
    }
   ],
   "source": [
    "# Puzzle\n",
    "input1 = 'R992,U284,L447,D597,R888,D327,R949,U520,R27,U555,L144,D284,R538,U249,R323,U297,R136,U838,L704,D621,R488,U856,R301,U539,L701,U363,R611,D94,L734,D560,L414,U890,R236,D699,L384,D452,R702,D637,L164,U410,R649,U901,L910,D595,R339,D346,R959,U777,R218,D667,R534,D762,R484,D914,L25,U959,R984,D922,R612,U999,L169,D599,L604,D357,L217,D327,L730,D949,L565,D332,L114,D512,R460,D495,L187,D697,R313,U319,L8,D915,L518,D513,R738,U9,R137,U542,L188,U440,R576,D307,R734,U58,R285,D401,R166,U156,L859,U132,L10,U753,L933,U915,R459,D50,R231,D166,L253,U844,R585,D871,L799,U53,R785,U336,R622,D108,R555,D918,L217,D668,L220,U738,L997,D998,R964,D456,L54,U930,R985,D244,L613,D116,L994,D20,R949,D245,L704,D564,L210,D13,R998,U951,L482,U579,L793,U680,L285,U770,L975,D54,R79,U613,L907,U467,L256,D783,R883,U810,R409,D508,L898,D286,L40,U741,L759,D549,R210,U411,R638,D643,L784,U538,L739,U771,L773,U491,L303,D425,L891,U182,R412,U951,L381,U501,R482,D625,R870,D320,L464,U555,R566,D781,L540,D754,L211,U73,L321,D869,R994,D177,R496,U383,R911,U819,L651,D774,L591,U666,L883,U767,R232,U822,L499,U44,L45,U873,L98,D487,L47,U803,R855,U256,R567,D88,R138,D678,L37,U38,R783,U569,L646,D261,L597,U275,L527,U48,R433,D324,L631,D160,L145,D128,R894,U223,R664,U510,R756,D700,R297,D361,R837,U996,L769,U813,L477,U420,L172,U482,R891,D379,L329,U55,R284,U155,L816,U659,L671,U996,R997,U252,R514,D718,L661,D625,R910,D960,L39,U610,R853,U859,R174,U215,L603,U745,L587,D736,R365,U78,R306,U158,L813,U885,R558,U631,L110,D232,L519,D366,R909,D10,R294'\n",
    "input2 = 'L1001,D833,L855,D123,R36,U295,L319,D700,L164,U576,L68,D757,R192,D738,L640,D660,R940,D778,R888,U772,R771,U900,L188,D464,L572,U184,R889,D991,L961,U751,R560,D490,L887,D748,R37,U910,L424,D401,L385,U415,L929,U193,R710,D855,L596,D323,L966,D505,L422,D139,L108,D135,R737,U176,R538,D173,R21,D951,R949,D61,L343,U704,R127,U468,L240,D834,L858,D127,R328,D863,R329,U477,R131,U864,R997,D38,R418,U611,R28,U705,R148,D414,R786,U264,L785,D650,R201,D250,R528,D910,R670,U309,L658,U190,R704,U21,R288,D7,R930,U62,R782,U621,R328,D725,R305,U700,R494,D137,R969,U142,L867,U577,R300,U162,L13,D698,R333,U865,R941,U796,L60,U902,L784,U832,R78,D578,R196,D390,R728,D922,R858,D994,L457,U547,R238,D345,R329,D498,R873,D212,R501,U474,L657,U910,L335,U133,R213,U417,R698,U829,L2,U704,L273,D83,R231,D247,R675,D23,L692,D472,L325,D659,L408,U746,L715,U395,L596,U296,R52,D849,L713,U815,R684,D551,L319,U768,R176,D182,R557,U731,R314,D543,L9,D256,R38,D809,L567,D332,R375,D572,R81,D479,L71,U968,L831,D247,R989,U390,R463,D576,R740,D539,R488,U367,L596,U375,L763,D824,R70,U448,R979,D977,L744,D379,R488,D671,L516,D334,L542,U517,L488,D390,L713,D932,L28,U924,L448,D229,L488,D501,R19,D910,L979,D411,R711,D824,L973,U291,R794,D485,R208,U370,R655,U450,L40,D804,L374,D671,R962,D829,L209,U111,L84,D876,L832,D747,L733,D560,L702,D972,R188,U817,L111,U26,L492,U485,L71,D59,L269,D870,L152,U539,R65,D918,L932,D260,L485,U77,L699,U254,R924,U643,L264,U96,R395,D917,R360,U354,R101,D682,R854,U450,L376,D378,R872,D311,L881,U630,R77,D766,R672'\n",
    "wire1 = Wire(input1)\n",
    "wire2 = Wire(input2)\n",
    "\n",
    "print(Wire.find_intersections(wire1, wire2, debug=True)[2])"
   ]
  },
  {
   "cell_type": "markdown",
   "metadata": {},
   "source": [
    "# Part 2 "
   ]
  },
  {
   "cell_type": "code",
   "execution_count": 21,
   "metadata": {},
   "outputs": [],
   "source": [
    "class Wire2(Wire):\n",
    "    def __init__(self, movements, debug=False):\n",
    "        super().__init__(movements, debug)\n",
    "        \n",
    "    def steps_to_point(self, point):\n",
    "        \"\"\"Return number of steps taken on self.path to get to the first occurence of point.\"\"\"\n",
    "        return self.path.index(point)\n",
    "    \n",
    "    @classmethod\n",
    "    def min_total_steps(cls, wire1, wire2, debug=False):\n",
    "        \"\"\"For each crossing of wire1 and wire2, sum the number of steps taken by each wire, then return the minimum.\"\"\"\n",
    "        crossings = cls.find_intersections(wire1, wire2)[0]\n",
    "        steps_to_crossing = [(wire1.steps_to_point(p), wire2.steps_to_point(p)) for p in crossings]\n",
    "        if debug:\n",
    "            print(f'Crossings: {crossings}\\nSteps: {steps_to_crossing}')\n",
    "        return min(sum(v) for v in steps_to_crossing)"
   ]
  },
  {
   "cell_type": "code",
   "execution_count": 22,
   "metadata": {},
   "outputs": [
    {
     "name": "stdout",
     "output_type": "stream",
     "text": [
      "Crossings: {(3, 3), (6, 5)}\n",
      "Steps: [(20, 20), (15, 15)]\n",
      "30\n"
     ]
    }
   ],
   "source": [
    "# Example 1. Correct answer is 30.\n",
    "wire1 = Wire2('R8,U5,L5,D3')\n",
    "wire2 = Wire2('U7,R6,D4,L4')\n",
    "print(Wire2.min_total_steps(wire1, wire2, debug=True))"
   ]
  },
  {
   "cell_type": "code",
   "execution_count": 23,
   "metadata": {},
   "outputs": [
    {
     "name": "stdout",
     "output_type": "stream",
     "text": [
      "Crossings: {(158, -12), (146, 46), (155, 4), (155, 11)}\n",
      "Steps: [(206, 404), (290, 334), (341, 385), (472, 378)]\n",
      "610\n"
     ]
    }
   ],
   "source": [
    "# Example 2. Answer is 610.\n",
    "wire1 = Wire2('R75,D30,R83,U83,L12,D49,R71,U7,L72')\n",
    "wire2 = Wire2('U62,R66,U55,R34,D71,R55,D58,R83')\n",
    "print(Wire2.min_total_steps(wire1, wire2, debug=True))"
   ]
  },
  {
   "cell_type": "code",
   "execution_count": 24,
   "metadata": {},
   "outputs": [
    {
     "name": "stdout",
     "output_type": "stream",
     "text": [
      "Crossings: {(107, 71), (157, 18), (124, 11), (107, 47), (107, 51)}\n",
      "Steps: [(404, 232), (301, 349), (207, 309), (154, 256), (448, 252)]\n",
      "410\n"
     ]
    }
   ],
   "source": [
    "# Example 3. Answer is 410.\n",
    "wire1 = Wire2('R98,U47,R26,D63,R33,U87,L62,D20,R33,U53,R51')\n",
    "wire2 = Wire2('U98,R91,D20,R16,D67,R40,U7,R15,U6,R7')\n",
    "print(Wire2.min_total_steps(wire1, wire2, debug=True))"
   ]
  },
  {
   "cell_type": "code",
   "execution_count": 25,
   "metadata": {},
   "outputs": [
    {
     "name": "stdout",
     "output_type": "stream",
     "text": [
      "101956\n"
     ]
    }
   ],
   "source": [
    "# Puzzle\n",
    "input1 = 'R992,U284,L447,D597,R888,D327,R949,U520,R27,U555,L144,D284,R538,U249,R323,U297,R136,U838,L704,D621,R488,U856,R301,U539,L701,U363,R611,D94,L734,D560,L414,U890,R236,D699,L384,D452,R702,D637,L164,U410,R649,U901,L910,D595,R339,D346,R959,U777,R218,D667,R534,D762,R484,D914,L25,U959,R984,D922,R612,U999,L169,D599,L604,D357,L217,D327,L730,D949,L565,D332,L114,D512,R460,D495,L187,D697,R313,U319,L8,D915,L518,D513,R738,U9,R137,U542,L188,U440,R576,D307,R734,U58,R285,D401,R166,U156,L859,U132,L10,U753,L933,U915,R459,D50,R231,D166,L253,U844,R585,D871,L799,U53,R785,U336,R622,D108,R555,D918,L217,D668,L220,U738,L997,D998,R964,D456,L54,U930,R985,D244,L613,D116,L994,D20,R949,D245,L704,D564,L210,D13,R998,U951,L482,U579,L793,U680,L285,U770,L975,D54,R79,U613,L907,U467,L256,D783,R883,U810,R409,D508,L898,D286,L40,U741,L759,D549,R210,U411,R638,D643,L784,U538,L739,U771,L773,U491,L303,D425,L891,U182,R412,U951,L381,U501,R482,D625,R870,D320,L464,U555,R566,D781,L540,D754,L211,U73,L321,D869,R994,D177,R496,U383,R911,U819,L651,D774,L591,U666,L883,U767,R232,U822,L499,U44,L45,U873,L98,D487,L47,U803,R855,U256,R567,D88,R138,D678,L37,U38,R783,U569,L646,D261,L597,U275,L527,U48,R433,D324,L631,D160,L145,D128,R894,U223,R664,U510,R756,D700,R297,D361,R837,U996,L769,U813,L477,U420,L172,U482,R891,D379,L329,U55,R284,U155,L816,U659,L671,U996,R997,U252,R514,D718,L661,D625,R910,D960,L39,U610,R853,U859,R174,U215,L603,U745,L587,D736,R365,U78,R306,U158,L813,U885,R558,U631,L110,D232,L519,D366,R909,D10,R294'\n",
    "input2 = 'L1001,D833,L855,D123,R36,U295,L319,D700,L164,U576,L68,D757,R192,D738,L640,D660,R940,D778,R888,U772,R771,U900,L188,D464,L572,U184,R889,D991,L961,U751,R560,D490,L887,D748,R37,U910,L424,D401,L385,U415,L929,U193,R710,D855,L596,D323,L966,D505,L422,D139,L108,D135,R737,U176,R538,D173,R21,D951,R949,D61,L343,U704,R127,U468,L240,D834,L858,D127,R328,D863,R329,U477,R131,U864,R997,D38,R418,U611,R28,U705,R148,D414,R786,U264,L785,D650,R201,D250,R528,D910,R670,U309,L658,U190,R704,U21,R288,D7,R930,U62,R782,U621,R328,D725,R305,U700,R494,D137,R969,U142,L867,U577,R300,U162,L13,D698,R333,U865,R941,U796,L60,U902,L784,U832,R78,D578,R196,D390,R728,D922,R858,D994,L457,U547,R238,D345,R329,D498,R873,D212,R501,U474,L657,U910,L335,U133,R213,U417,R698,U829,L2,U704,L273,D83,R231,D247,R675,D23,L692,D472,L325,D659,L408,U746,L715,U395,L596,U296,R52,D849,L713,U815,R684,D551,L319,U768,R176,D182,R557,U731,R314,D543,L9,D256,R38,D809,L567,D332,R375,D572,R81,D479,L71,U968,L831,D247,R989,U390,R463,D576,R740,D539,R488,U367,L596,U375,L763,D824,R70,U448,R979,D977,L744,D379,R488,D671,L516,D334,L542,U517,L488,D390,L713,D932,L28,U924,L448,D229,L488,D501,R19,D910,L979,D411,R711,D824,L973,U291,R794,D485,R208,U370,R655,U450,L40,D804,L374,D671,R962,D829,L209,U111,L84,D876,L832,D747,L733,D560,L702,D972,R188,U817,L111,U26,L492,U485,L71,D59,L269,D870,L152,U539,R65,D918,L932,D260,L485,U77,L699,U254,R924,U643,L264,U96,R395,D917,R360,U354,R101,D682,R854,U450,L376,D378,R872,D311,L881,U630,R77,D766,R672'\n",
    "wire1 = Wire2(input1)\n",
    "wire2 = Wire2(input2)\n",
    "\n",
    "print(Wire2.min_total_steps(wire1, wire2))"
   ]
  }
 ],
 "metadata": {
  "kernelspec": {
   "display_name": "Python 3",
   "language": "python",
   "name": "python3"
  },
  "language_info": {
   "codemirror_mode": {
    "name": "ipython",
    "version": 3
   },
   "file_extension": ".py",
   "mimetype": "text/x-python",
   "name": "python",
   "nbconvert_exporter": "python",
   "pygments_lexer": "ipython3",
   "version": "3.7.4"
  }
 },
 "nbformat": 4,
 "nbformat_minor": 2
}
