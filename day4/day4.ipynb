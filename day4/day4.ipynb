{
 "cells": [
  {
   "cell_type": "markdown",
   "metadata": {},
   "source": [
    "# Part 1"
   ]
  },
  {
   "cell_type": "code",
   "execution_count": 50,
   "metadata": {},
   "outputs": [],
   "source": [
    "def is_valid(num, debug=False):\n",
    "    # Check for six digits\n",
    "    if num < 100000 or num > 999999:\n",
    "        if debug:\n",
    "            print(f'{num} not six digits')\n",
    "        return False\n",
    "    \n",
    "    # Decompose into digits (123456 -> [1,2,3,4,5,6])\n",
    "    # and pair subsequent digits\n",
    "    digits = [int(s) for s in str(num)]\n",
    "    pairs = zip(digits[:-1], digits[1:])\n",
    "    \n",
    "    double_found = False\n",
    "    for pair in pairs:\n",
    "        # Check that adjacent digits are not descending\n",
    "        if pair[1] < pair[0]:\n",
    "            if debug:\n",
    "                print(f'{num} has descending digits')\n",
    "            return False\n",
    "        # Look for duplicate pair. Don't bother if already found\n",
    "        if not double_found and pair[1] == pair[0]:\n",
    "            double_found = True\n",
    "    if debug and not double_found:\n",
    "        print(f'{num} has no duplicates')\n",
    "    return double_found"
   ]
  },
  {
   "cell_type": "code",
   "execution_count": 51,
   "metadata": {},
   "outputs": [
    {
     "name": "stdout",
     "output_type": "stream",
     "text": [
      "True\n",
      "223450 has descending digits\n",
      "False\n",
      "123789 has no duplicates\n",
      "False\n"
     ]
    }
   ],
   "source": [
    "# Examples\n",
    "print(is_valid(111111, debug=True))  # True\n",
    "print(is_valid(223450, debug=True))  # False, descending\n",
    "print(is_valid(123789, debug=True))  # False, no duplicates"
   ]
  },
  {
   "cell_type": "code",
   "execution_count": 52,
   "metadata": {},
   "outputs": [
    {
     "data": {
      "text/plain": [
       "1169"
      ]
     },
     "execution_count": 52,
     "metadata": {},
     "output_type": "execute_result"
    }
   ],
   "source": [
    "# Puzzle\n",
    "sum(is_valid(v) for v in range(236491, 713787+1))"
   ]
  },
  {
   "cell_type": "markdown",
   "metadata": {},
   "source": [
    "# Part 2"
   ]
  },
  {
   "cell_type": "markdown",
   "metadata": {},
   "source": [
    "Have to re-write the duplicate check in `is_valid()` for the new requirement."
   ]
  },
  {
   "cell_type": "code",
   "execution_count": 53,
   "metadata": {},
   "outputs": [],
   "source": [
    "def is_valid(num, debug=False):\n",
    "    # Check for six digits\n",
    "    if num < 100000 or num > 999999:\n",
    "        if debug:\n",
    "            print(f'{num} not six digits')\n",
    "        return False\n",
    "    \n",
    "    # Decompose into digits (123456 -> [1,2,3,4,5,6])\n",
    "    digits = [int(s) for s in str(num)]\n",
    "    \n",
    "    run_of_dups = 0\n",
    "    runs = []\n",
    "    # This is ugly\n",
    "    for i in range(1, 6):\n",
    "        if digits[i] < digits[i-1]:\n",
    "            if debug:\n",
    "                print(f'{num} has descending digits')\n",
    "            return False\n",
    "        \n",
    "        # If we have a duplicate, count how many times we've seen that digit in a row\n",
    "        # Once we stop seeing a digit, stick the # of counts in runs\n",
    "        # Lone pairs will appear as 1s in runs, while longer runs will appear as >1\n",
    "        if digits[i] == digits[i-1]:\n",
    "            run_of_dups += 1\n",
    "            if i == 5:\n",
    "                runs.append(run_of_dups)\n",
    "        else:\n",
    "            if run_of_dups > 0:\n",
    "                runs.append(run_of_dups)\n",
    "            run_of_dups = 0\n",
    "            \n",
    "    # Check if there are any 2-digit runs \n",
    "    if not (1 in runs):\n",
    "        if debug:\n",
    "            print(f'{num} has no two-digit runs')\n",
    "        return False\n",
    "    return True"
   ]
  },
  {
   "cell_type": "code",
   "execution_count": 54,
   "metadata": {},
   "outputs": [
    {
     "name": "stdout",
     "output_type": "stream",
     "text": [
      "True\n",
      "123444 has no two-digit runs\n",
      "False\n",
      "True\n"
     ]
    }
   ],
   "source": [
    "# Examples\n",
    "print(is_valid(112233, debug=True))  # True\n",
    "print(is_valid(123444, debug=True))  # False, run of 4s\n",
    "print(is_valid(111122, debug=True))  # True"
   ]
  },
  {
   "cell_type": "code",
   "execution_count": 55,
   "metadata": {},
   "outputs": [
    {
     "data": {
      "text/plain": [
       "757"
      ]
     },
     "execution_count": 55,
     "metadata": {},
     "output_type": "execute_result"
    }
   ],
   "source": [
    "# Puzzle\n",
    "sum(is_valid(v) for v in range(236491, 713787+1))"
   ]
  }
 ],
 "metadata": {
  "kernelspec": {
   "display_name": "Python 3",
   "language": "python",
   "name": "python3"
  },
  "language_info": {
   "codemirror_mode": {
    "name": "ipython",
    "version": 3
   },
   "file_extension": ".py",
   "mimetype": "text/x-python",
   "name": "python",
   "nbconvert_exporter": "python",
   "pygments_lexer": "ipython3",
   "version": "3.7.4"
  }
 },
 "nbformat": 4,
 "nbformat_minor": 2
}
