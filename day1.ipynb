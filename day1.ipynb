{
 "cells": [
  {
   "cell_type": "code",
   "execution_count": 11,
   "metadata": {},
   "outputs": [
    {
     "name": "stdout",
     "output_type": "stream",
     "text": [
      "[51753, 53456, 128133, 118219, 136490, 113318, 134001, 99775, 84746, 68712, 104274, 72530, 101517, 65533, 98719, 100215, 144296, 114166, 62930, 118494, 144800, 97604, 112836, 73074, 62591, 99278, 94544, 73035, 146631, 148331, 144573, 121956, 94088, 60092, 126397, 117285, 122292, 77413, 145860, 76968, 64790, 58479, 94035, 148441, 78999, 74329, 145182, 129497, 106765, 67046, 58702, 123344, 63866, 121123, 126808, 115190, 86467, 136359, 148718, 88225, 126185, 82745, 142546, 149788, 137524, 114690, 68075, 60244, 127157, 123719, 87843, 107714, 51281, 92123, 146495, 50761, 130708, 53103, 75289, 121675, 61726, 70674, 101755, 97736, 100141, 81085, 55493, 73071, 85321, 119965, 147313, 105201, 107107, 130007, 67834, 137614, 140848, 64038, 106078, 71447]\n"
     ]
    }
   ],
   "source": [
    "with open('input_day1.txt', 'r') as in_file:\n",
    "    data_in = [int(line) for line in in_file]\n",
    "print(data_in)"
   ]
  },
  {
   "cell_type": "code",
   "execution_count": 12,
   "metadata": {},
   "outputs": [],
   "source": [
    "def fuel_req(mass):\n",
    "    return int(mass/3)-2\n",
    "\n",
    "test_inputs = [12, 14, 1969, 100756]\n",
    "test_outputs = [2, 2, 654, 33583]\n",
    "for test_mass, test_fuel in zip(test_inputs, test_outputs):\n",
    "    assert fuel_req(test_mass) == test_fuel, f'Fail. Calc={fuel_req(test_mass)}, Actual={test_fuel}'"
   ]
  },
  {
   "cell_type": "code",
   "execution_count": 13,
   "metadata": {},
   "outputs": [
    {
     "name": "stdout",
     "output_type": "stream",
     "text": [
      "3373568\n"
     ]
    }
   ],
   "source": [
    "total_fuel = sum(fuel_req(mass) for mass in data_in)\n",
    "print(total_fuel)"
   ]
  },
  {
   "cell_type": "code",
   "execution_count": 14,
   "metadata": {},
   "outputs": [
    {
     "name": "stdout",
     "output_type": "stream",
     "text": [
      "Mass=14\n",
      "Fuel=2, Total=2\n",
      "Mass=1969\n",
      "Fuel=654, Total=654\n",
      "Fuel=216, Total=870\n",
      "Fuel=70, Total=940\n",
      "Fuel=21, Total=961\n",
      "Fuel=5, Total=966\n",
      "Mass=100756\n",
      "Fuel=33583, Total=33583\n",
      "Fuel=11192, Total=44775\n",
      "Fuel=3728, Total=48503\n",
      "Fuel=1240, Total=49743\n",
      "Fuel=411, Total=50154\n",
      "Fuel=135, Total=50289\n",
      "Fuel=43, Total=50332\n",
      "Fuel=12, Total=50344\n",
      "Fuel=2, Total=50346\n"
     ]
    }
   ],
   "source": [
    "def fuel_req_2(mass, debug=False):\n",
    "    if debug: print(f'Mass={mass}')\n",
    "    fuel_total = 0\n",
    "    fuel = fuel_req(mass)\n",
    "    while fuel > 0:\n",
    "        fuel_total += fuel\n",
    "        if debug: print(f'Fuel={fuel}, Total={fuel_total}')\n",
    "        fuel = fuel_req(fuel)\n",
    "    return fuel_total\n",
    "    \n",
    "test_inputs = [14, 1969, 100756]\n",
    "test_outputs = [2, 966, 50346]\n",
    "for test_mass, test_fuel in zip(test_inputs, test_outputs):\n",
    "    fuel = fuel_req_2(test_mass, debug=True)\n",
    "    assert fuel == test_fuel, f'Fail. Mass={test_mass}, Calc={fuel}, Actual={test_fuel}'"
   ]
  },
  {
   "cell_type": "code",
   "execution_count": 16,
   "metadata": {},
   "outputs": [
    {
     "name": "stdout",
     "output_type": "stream",
     "text": [
      "5057481\n"
     ]
    }
   ],
   "source": [
    "total_fuel = sum(fuel_req_2(mass) for mass in data_in)\n",
    "print(total_fuel)"
   ]
  },
  {
   "cell_type": "code",
   "execution_count": null,
   "metadata": {},
   "outputs": [],
   "source": []
  }
 ],
 "metadata": {
  "kernelspec": {
   "display_name": "Python 3",
   "language": "python",
   "name": "python3"
  },
  "language_info": {
   "codemirror_mode": {
    "name": "ipython",
    "version": 3
   },
   "file_extension": ".py",
   "mimetype": "text/x-python",
   "name": "python",
   "nbconvert_exporter": "python",
   "pygments_lexer": "ipython3",
   "version": "3.7.4"
  }
 },
 "nbformat": 4,
 "nbformat_minor": 2
}
