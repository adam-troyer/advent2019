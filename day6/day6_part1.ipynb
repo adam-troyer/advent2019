{
 "cells": [
  {
   "cell_type": "code",
   "execution_count": 1,
   "metadata": {},
   "outputs": [],
   "source": [
    "from dataclasses import dataclass, field\n",
    "from typing import List\n",
    "\n",
    "@dataclass\n",
    "class Orbiter:\n",
    "    name: str = 'COM'\n",
    "    # Seems to be a Jupyter issue where I can't have these\n",
    "    # parameters use Orbiter unless the block has already run\n",
    "    # correctly once. Issue only crops up on kernel restart.\n",
    "    # Changed to object to fix, doesn't matter for this.\n",
    "    parent: object = None\n",
    "    children: List[object] = field(default_factory=list)\n",
    "    num_orbits: int = field(init=False)\n",
    "        \n",
    "    def __repr__(self):\n",
    "        if self.parent:\n",
    "            return f'{self.name}({self.parent.name})'\n",
    "        else:\n",
    "            return f'{self.name}()'\n",
    "        \n",
    "    def __post_init__(self):\n",
    "        self.update_orbits()\n",
    "        if self.parent:\n",
    "            self.parent.add_child(self)\n",
    "            \n",
    "    def add_parent(self, parent):\n",
    "        self.parent = parent\n",
    "        self.parent.add_child(self)\n",
    "        self.update_orbits()\n",
    "    \n",
    "    def add_child(self, child):\n",
    "        self.children.append(child)\n",
    "    \n",
    "    def update_orbits(self):\n",
    "        \"\"\"Update the number of orbits then propagate down to children.\"\"\"\n",
    "        if self.parent:\n",
    "            self.num_orbits = self.parent.num_orbits + 1\n",
    "            for child in self.children:\n",
    "                child.update_orbits()\n",
    "        else:\n",
    "            self.num_orbits = 0"
   ]
  },
  {
   "cell_type": "code",
   "execution_count": 2,
   "metadata": {},
   "outputs": [
    {
     "name": "stdout",
     "output_type": "stream",
     "text": [
      "COM() = 0\n",
      "A(COM) = 1\n",
      "B(A) = 2\n",
      "C(B) = 3\n",
      "D(A) = 2\n"
     ]
    }
   ],
   "source": [
    "# Test basic use\n",
    "com = Orbiter('COM', None)\n",
    "a = Orbiter('A', com)\n",
    "b = Orbiter('B', a)\n",
    "c = Orbiter('C', b)\n",
    "d = Orbiter('D', a)\n",
    "\n",
    "for orb in [com, a, b, c, d]:\n",
    "    print(f'{orb} = {orb.num_orbits}')"
   ]
  },
  {
   "cell_type": "code",
   "execution_count": 3,
   "metadata": {},
   "outputs": [
    {
     "name": "stdout",
     "output_type": "stream",
     "text": [
      "COM() = 0\n",
      "A(COM) = 1\n",
      "B(A) = 2\n",
      "C(B) = 3\n",
      "D(A) = 2\n"
     ]
    }
   ],
   "source": [
    "# Test parent insertion\n",
    "a = Orbiter('A')\n",
    "b = Orbiter('B', a)\n",
    "c = Orbiter('C', b)\n",
    "d = Orbiter('D', a)\n",
    "com = Orbiter()\n",
    "a.add_parent(com)\n",
    "for orb in [com, a, b, c, d]:\n",
    "    print(f'{orb} = {orb.num_orbits}')"
   ]
  },
  {
   "cell_type": "code",
   "execution_count": 4,
   "metadata": {},
   "outputs": [],
   "source": [
    "def parse_input(str_in):\n",
    "    # 'A)B\\n B)C\\n C)D\\n' -> [['A', 'B'], ['B', 'C'], ['C', 'D'], ['']]\n",
    "    nodes = [line.split(')') for line in str_in.split('\\n')]\n",
    "\n",
    "    # Deal with the blank last item due to the newline at file end\n",
    "    if nodes[-1] == ['']:\n",
    "        nodes.pop()\n",
    "    \n",
    "    # For each node, add the parent to the orbiters dict if it doesn't already exist,\n",
    "    # then add the child. \n",
    "    orbiters = {}\n",
    "    for parent_str, child_str in nodes:\n",
    "        if parent_str not in orbiters:\n",
    "            parent = Orbiter(name=parent_str)\n",
    "            orbiters[parent_str] = parent\n",
    "        else:\n",
    "            parent = orbiters[parent_str]\n",
    "            \n",
    "        if child_str not in orbiters:\n",
    "            child = Orbiter(name=child_str, parent=parent)\n",
    "            orbiters[child_str] = child\n",
    "        else:\n",
    "            orbiters[child_str].add_parent(parent)\n",
    "    return orbiters"
   ]
  },
  {
   "cell_type": "code",
   "execution_count": 5,
   "metadata": {},
   "outputs": [
    {
     "name": "stdout",
     "output_type": "stream",
     "text": [
      "{'COM': COM(), 'B': B(COM), 'C': C(B), 'D': D(C), 'E': E(D), 'F': F(E), 'G': G(B), 'H': H(G), 'I': I(D), 'J': J(E), 'K': K(J), 'L': L(K)}\n"
     ]
    }
   ],
   "source": [
    "# Test input parsing on the example\n",
    "test_str = '''COM)B\n",
    "B)C\n",
    "C)D\n",
    "D)E\n",
    "E)F\n",
    "B)G\n",
    "G)H\n",
    "D)I\n",
    "E)J\n",
    "J)K\n",
    "K)L\n",
    "'''\n",
    "orbs = parse_input(test_str)\n",
    "print(orbs)"
   ]
  },
  {
   "cell_type": "code",
   "execution_count": 6,
   "metadata": {},
   "outputs": [
    {
     "name": "stdout",
     "output_type": "stream",
     "text": [
      "42\n"
     ]
    }
   ],
   "source": [
    "# Example solution, correct answer is 42\n",
    "print(sum(orb.num_orbits for orb in orbs.values()))"
   ]
  },
  {
   "cell_type": "code",
   "execution_count": 7,
   "metadata": {},
   "outputs": [
    {
     "name": "stdout",
     "output_type": "stream",
     "text": [
      "{'B': B(COM), 'G': G(B), 'C': C(B), 'D': D(C), 'K': K(J), 'L': L(K), 'COM': COM(), 'E': E(D), 'F': F(E), 'H': H(G), 'I': I(D), 'J': J(E)}\n",
      "['B:1', 'G:2', 'C:2', 'D:3', 'K:6', 'L:7', 'COM:0', 'E:4', 'F:5', 'H:3', 'I:4', 'J:5']\n",
      "42\n"
     ]
    }
   ],
   "source": [
    "# Same example but with mixed up entries.\n",
    "# Should still have 42 orbits.\n",
    "test_str = '''B)G\n",
    "C)D\n",
    "K)L\n",
    "COM)B\n",
    "D)E\n",
    "E)F\n",
    "B)C\n",
    "G)H\n",
    "B)G\n",
    "D)I\n",
    "J)K\n",
    "E)J\n",
    "G)H\n",
    "'''\n",
    "orbs = parse_input(test_str)\n",
    "print(orbs)\n",
    "print([f'{orb.name}:{orb.num_orbits}' for orb in orbs.values()])\n",
    "print(sum(orb.num_orbits for orb in orbs.values()))"
   ]
  },
  {
   "cell_type": "code",
   "execution_count": 8,
   "metadata": {},
   "outputs": [
    {
     "name": "stdout",
     "output_type": "stream",
     "text": [
      "110190\n"
     ]
    }
   ],
   "source": [
    "# Part 1 solution\n",
    "with open('day6_input.txt', 'r') as infile:\n",
    "    in_str = infile.read()\n",
    "\n",
    "orbs = parse_input(in_str)\n",
    "print(sum(orb.num_orbits for orb in orbs.values()))"
   ]
  }
 ],
 "metadata": {
  "kernelspec": {
   "display_name": "Python 3",
   "language": "python",
   "name": "python3"
  },
  "language_info": {
   "codemirror_mode": {
    "name": "ipython",
    "version": 3
   },
   "file_extension": ".py",
   "mimetype": "text/x-python",
   "name": "python",
   "nbconvert_exporter": "python",
   "pygments_lexer": "ipython3",
   "version": "3.7.4"
  }
 },
 "nbformat": 4,
 "nbformat_minor": 2
}
