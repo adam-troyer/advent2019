{
 "cells": [
  {
   "cell_type": "markdown",
   "metadata": {},
   "source": [
    "# Part 1"
   ]
  },
  {
   "cell_type": "markdown",
   "metadata": {},
   "source": [
    "First, I'll make an Asteroid class. Each instance will store its coordinates and look angles to other asteroids. Then each asteroid can determine the number of other asteroids in view.<br>\n",
    "\n",
    "When finding the look angle between asteroids, it's possible that float precision issues will cause asteroids at the same angle to appear at slightly different angles, but I'm not sure. I'll round to a few decimal places when I compare angles just in case. I'm also going to arbitrarily choose my angles to be in degrees azimuth (that is, degrees clockwise from North), with North pointing up toward y=0. Basically, aligned with North up the way the graphs are shown in the problem description."
   ]
  },
  {
   "cell_type": "code",
   "execution_count": 1,
   "metadata": {},
   "outputs": [],
   "source": [
    "from dataclasses import dataclass, field\n",
    "from typing import Dict\n",
    "from math import atan, pi\n",
    "\n",
    "@dataclass\n",
    "class Asteroid:\n",
    "    x: int\n",
    "    y: int\n",
    "    detects: int = field(default=0)\n",
    "    # This really should be Dict[Asteroid, float], but a Jupyter bug (?) causes that to\n",
    "    # throw an error after the kernel is restarted. Using object works fine.\n",
    "    angles: Dict[object, float] = field(default_factory=dict)\n",
    "        \n",
    "    def __hash__(self):\n",
    "        \"\"\"Hash on the (x,y) tuple so Asteroids can act as dict keys.\"\"\"\n",
    "        return hash((self.x, self.y))\n",
    "    \n",
    "    def __repr__(self):\n",
    "        return f'Asteroid({self.x}, {self.y})'\n",
    "    \n",
    "    def add_angle(self, target):\n",
    "        \"\"\"Store look angle to Asteroid target, and cause target to store look angle to this Asteroid.\n",
    "        \n",
    "        Look angle is in degrees azimuth (i.e. 0=North, 90=East), with North pointing towards y=0 and\n",
    "        West pointing towards x=0.\n",
    "        \"\"\"\n",
    "        if target in self.angles:\n",
    "            pass\n",
    "        # The coordinate system is weird (0,0 in top left), so manually determine the quadrant the look \n",
    "        # direction is in to get angle instead of using atan2 to do it.\n",
    "        # Positive diffx is looking West, positive diffy is looking North.\n",
    "        diffx = self.x - target.x\n",
    "        diffy = self.y - target.y\n",
    "        if diffx == 0:   # Check 0/180 to avoid divide by 0 error\n",
    "            if diffy > 0:\n",
    "                angle = 0.0\n",
    "            if diffy < 0:\n",
    "                angle = 180.0\n",
    "        else:\n",
    "            # Quadrant 1 (N to E)\n",
    "            if diffx < 0 and diffy >= 0:\n",
    "                angle = 90 - (atan(abs(diffy/diffx))*180/pi)\n",
    "            # Quadrant 2 (E to S)\n",
    "            elif diffx < 0 and diffy < 0: \n",
    "                angle = 90 + (atan(abs(diffy/diffx))*180/pi)\n",
    "            # Quadrant 3 (S to W)\n",
    "            elif diffx > 0 and diffy <= 0: \n",
    "                angle = 270 - (atan(abs(diffy/diffx))*180/pi)\n",
    "            # Quadrant 4 (W to N)\n",
    "            else:                \n",
    "                angle = 270 + (atan(abs(diffy/diffx))*180/pi)\n",
    "        self.angles[target] = angle\n",
    "        #print(f'{target}: diffx={diffx}, diffy={diffy}, angle={angle}')\n",
    "        if self not in target.angles:\n",
    "            target.add_angle(self)\n",
    "    \n",
    "    @property\n",
    "    def num_visible(self):\n",
    "        \"\"\"Return number of visible asteroids.\"\"\"\n",
    "        # Using set() throws out any duplicates, since we can only see one asteroid if two or more\n",
    "        # are at the same angle. Round to 3 decimal places in case of any float precision issues.\n",
    "        return len(set(round(v, 3) for v in self.angles.values()))                   "
   ]
  },
  {
   "cell_type": "code",
   "execution_count": 2,
   "metadata": {},
   "outputs": [],
   "source": [
    "def parse_input(in_str):\n",
    "    \"\"\"Return a list of Asteroids from a map string. # is an Asteroid, any other character is empty.\"\"\"\n",
    "    asteroids = []\n",
    "    rows = in_str.split('\\n')\n",
    "    for y, row in enumerate(rows):\n",
    "        for x, char in enumerate(row):\n",
    "            if char == '#':\n",
    "                asteroids.append(Asteroid(x, y))\n",
    "    return asteroids"
   ]
  },
  {
   "cell_type": "markdown",
   "metadata": {},
   "source": [
    "Let's test with the first 5x5 example. Asteroids are located at:<br>\n",
    "(1,0), (4,0), (0,2), (1,2), (2,2), (3,2), (4,2), (4,3), (3,4), (4,4)"
   ]
  },
  {
   "cell_type": "code",
   "execution_count": 3,
   "metadata": {},
   "outputs": [
    {
     "name": "stdout",
     "output_type": "stream",
     "text": [
      "[Asteroid(1, 0), Asteroid(4, 0), Asteroid(0, 2), Asteroid(1, 2), Asteroid(2, 2), Asteroid(3, 2), Asteroid(4, 2), Asteroid(4, 3), Asteroid(3, 4), Asteroid(4, 4)]\n"
     ]
    }
   ],
   "source": [
    "ex1_str = \"\"\".#..#\n",
    ".....\n",
    "#####\n",
    "....#\n",
    "...##\"\"\"\n",
    "ex1_rocks = parse_input(ex1_str)\n",
    "print(ex1_rocks)"
   ]
  },
  {
   "cell_type": "markdown",
   "metadata": {},
   "source": [
    "Check that the angle from (3,4) to (2,2) is equal to the angle from (3,4) to (1,0). Both are in quadrant 4 (northwest-ish), so angle should be `270 + atan(2/1)*180/pi = 333.4 deg`."
   ]
  },
  {
   "cell_type": "code",
   "execution_count": 4,
   "metadata": {},
   "outputs": [
    {
     "name": "stdout",
     "output_type": "stream",
     "text": [
      "{Asteroid(2, 2): 333.434948822922, Asteroid(1, 0): 333.434948822922}\n",
      "True\n"
     ]
    }
   ],
   "source": [
    "rock34 = Asteroid(3, 4)\n",
    "rock22 = Asteroid(2, 2)\n",
    "rock10 = Asteroid(1, 0)\n",
    "rock34.add_angle(rock22)\n",
    "rock34.add_angle(rock10)\n",
    "print(rock34.angles)\n",
    "print(rock34.angles[rock22] == rock34.angles[rock10])"
   ]
  },
  {
   "cell_type": "markdown",
   "metadata": {},
   "source": [
    "Check the 0, 90, 180, and 270 degree cases to make sure they're handled correctly. Also check that each of the Asteroids is getting the look angle to rock34 correctly added to their angle list."
   ]
  },
  {
   "cell_type": "code",
   "execution_count": 5,
   "metadata": {},
   "outputs": [
    {
     "name": "stdout",
     "output_type": "stream",
     "text": [
      "{Asteroid(3, 4): 90.0}\n",
      "{Asteroid(3, 4): 270.0}\n",
      "{Asteroid(3, 4): 0.0}\n",
      "{Asteroid(3, 4): 180.0}\n",
      "{Asteroid(2, 4): 270.0, Asteroid(4, 4): 90.0, Asteroid(3, 5): 180.0, Asteroid(3, 3): 0.0}\n"
     ]
    }
   ],
   "source": [
    "rock34 = Asteroid(3,4)\n",
    "rock24 = Asteroid(2,4)    # 270 degrees from rock34, 90 degrees to rock 34\n",
    "rock44 = Asteroid(4,4)    # 90 degrees from rock34, 270 degrees to rock34\n",
    "rock35 = Asteroid(3,5)    # 180 degrees from rock34, 0 degres to rock34\n",
    "rock33 = Asteroid(3,3)    # 0 degrees from rock34, 180 degrees to rock34\n",
    "for target in [rock24, rock44, rock35, rock33]:\n",
    "    rock34.add_angle(target)\n",
    "    print(target.angles)  # Should show 90, 270, 0, 180\n",
    "print(rock34.angles)      # Should show 270, 90, 180, 0"
   ]
  },
  {
   "cell_type": "markdown",
   "metadata": {},
   "source": [
    "So all of the look angle calculation and storage looks correct. Now I need to make a function to walk through the Asteroid list and calculate all the look angles between every pair of asteroids. Then I can use that to figure out how many are in view for each asteroid."
   ]
  },
  {
   "cell_type": "code",
   "execution_count": 6,
   "metadata": {},
   "outputs": [],
   "source": [
    "from itertools import combinations\n",
    "\n",
    "def calc_all_angles(asteroids):\n",
    "    \"\"\"Calculate look angles between all pairings of 2 asteroids.\n",
    "    \n",
    "    Ignores permutations (e.g. get (1,1)->(2,2), but not (2,2)->(1,1)) since Asteroid.add_angle\n",
    "    adds the look angle to both asteroids.\n",
    "    This is an in-place operation on the elements of asteroids.\n",
    "    \"\"\"\n",
    "    pairings = combinations(asteroids, 2)\n",
    "    for pairing in pairings:\n",
    "        pairing[0].add_angle(pairing[1])"
   ]
  },
  {
   "cell_type": "markdown",
   "metadata": {},
   "source": [
    "Test `calc_all_angles` by checking the results for Asteroid(3,4). Asteroid(1,0) and (2,2) should have the same angle (333.4 as above), (3,2) should be at 0 degrees, and (4,4) should be at 90 degrees."
   ]
  },
  {
   "cell_type": "code",
   "execution_count": 7,
   "metadata": {},
   "outputs": [
    {
     "name": "stdout",
     "output_type": "stream",
     "text": [
      "{Asteroid(1, 0): 333.434948822922, Asteroid(4, 0): 14.036243467926468, Asteroid(0, 2): 303.69006752597977, Asteroid(1, 2): 315.0, Asteroid(2, 2): 333.434948822922, Asteroid(3, 2): 0.0, Asteroid(4, 2): 26.56505117707799, Asteroid(4, 3): 45.0, Asteroid(4, 4): 90.0}\n"
     ]
    }
   ],
   "source": [
    "calc_all_angles(ex1_rocks)\n",
    "print(ex1_rocks[-2].angles)"
   ]
  },
  {
   "cell_type": "markdown",
   "metadata": {},
   "source": [
    "Finally, a function to find the asteroid with the most visible asteroids.. "
   ]
  },
  {
   "cell_type": "code",
   "execution_count": 8,
   "metadata": {},
   "outputs": [],
   "source": [
    "def max_num_visible(asteroids):\n",
    "    \"\"\"Return (asteroid, num_visible) for the asteroid with the most visible asteroids.\"\"\"\n",
    "    visible = {asteroid: asteroid.num_visible for asteroid in asteroids}\n",
    "    max_vis_asteroid = max(visible, key=lambda k: visible[k])\n",
    "    return max_vis_asteroid, visible[max_vis_asteroid]"
   ]
  },
  {
   "cell_type": "markdown",
   "metadata": {},
   "source": [
    "For example 1, Asteroid(3,4) should have the most detections with 8."
   ]
  },
  {
   "cell_type": "code",
   "execution_count": 9,
   "metadata": {},
   "outputs": [
    {
     "name": "stdout",
     "output_type": "stream",
     "text": [
      "(Asteroid(3, 4), 8)\n"
     ]
    }
   ],
   "source": [
    "print(max_num_visible(ex1_rocks))"
   ]
  },
  {
   "cell_type": "markdown",
   "metadata": {},
   "source": [
    "Pull all of the above functions together into one function for part 1, then check example 1. The result should be Asteroid(3,4) with 8 detections."
   ]
  },
  {
   "cell_type": "code",
   "execution_count": 10,
   "metadata": {},
   "outputs": [
    {
     "name": "stdout",
     "output_type": "stream",
     "text": [
      "(Asteroid(3, 4), 8)\n"
     ]
    }
   ],
   "source": [
    "def part1(input_str):\n",
    "    asteroids = parse_input(input_str)\n",
    "    calc_all_angles(asteroids)\n",
    "    print(max_num_visible(asteroids))\n",
    "\n",
    "part1(ex1_str)"
   ]
  },
  {
   "cell_type": "markdown",
   "metadata": {},
   "source": [
    "Check the other examples:"
   ]
  },
  {
   "cell_type": "code",
   "execution_count": 11,
   "metadata": {},
   "outputs": [
    {
     "name": "stdout",
     "output_type": "stream",
     "text": [
      "(Asteroid(5, 8), 33)\n"
     ]
    }
   ],
   "source": [
    "# Example 2: Asteroid(5,8), 33 visible\n",
    "ex2_str = \"\"\"......#.#.\n",
    "#..#.#....\n",
    "..#######.\n",
    ".#.#.###..\n",
    ".#..#.....\n",
    "..#....#.#\n",
    "#..#....#.\n",
    ".##.#..###\n",
    "##...#..#.\n",
    ".#....####\"\"\"\n",
    "part1(ex2_str)"
   ]
  },
  {
   "cell_type": "code",
   "execution_count": 12,
   "metadata": {},
   "outputs": [
    {
     "name": "stdout",
     "output_type": "stream",
     "text": [
      "(Asteroid(1, 2), 35)\n"
     ]
    }
   ],
   "source": [
    "# Example 3: Asteroid(1,2), 35 visible\n",
    "ex3_str = \"\"\"#.#...#.#.\n",
    ".###....#.\n",
    ".#....#...\n",
    "##.#.#.#.#\n",
    "....#.#.#.\n",
    ".##..###.#\n",
    "..#...##..\n",
    "..##....##\n",
    "......#...\n",
    ".####.###.\"\"\"\n",
    "part1(ex3_str)"
   ]
  },
  {
   "cell_type": "code",
   "execution_count": 13,
   "metadata": {},
   "outputs": [
    {
     "name": "stdout",
     "output_type": "stream",
     "text": [
      "(Asteroid(6, 3), 41)\n"
     ]
    }
   ],
   "source": [
    "# Example 4: Asteroid(6,3), 41 visible\n",
    "ex4_str = \"\"\".#..#..###\n",
    "####.###.#\n",
    "....###.#.\n",
    "..###.##.#\n",
    "##.##.#.#.\n",
    "....###..#\n",
    "..#.#..#.#\n",
    "#..#.#.###\n",
    ".##...##.#\n",
    ".....#.#..\"\"\"\n",
    "part1(ex4_str)"
   ]
  },
  {
   "cell_type": "code",
   "execution_count": 14,
   "metadata": {},
   "outputs": [
    {
     "name": "stdout",
     "output_type": "stream",
     "text": [
      "(Asteroid(11, 13), 210)\n"
     ]
    }
   ],
   "source": [
    "# Example 5: Asteroid(11,13), 210 visible\n",
    "ex5_str = \"\"\".#..##.###...#######\n",
    "##.############..##.\n",
    ".#.######.########.#\n",
    ".###.#######.####.#.\n",
    "#####.##.#.##.###.##\n",
    "..#####..#.#########\n",
    "####################\n",
    "#.####....###.#.#.##\n",
    "##.#################\n",
    "#####.##.###..####..\n",
    "..######..##.#######\n",
    "####.##.####...##..#\n",
    ".#####..#.######.###\n",
    "##...#.##########...\n",
    "#.##########.#######\n",
    ".####.#.###.###.#.##\n",
    "....##.##.###..#####\n",
    ".#.#.###########.###\n",
    "#.#.#.#####.####.###\n",
    "###.##.####.##.#..##\"\"\"\n",
    "part1(ex5_str)"
   ]
  },
  {
   "cell_type": "markdown",
   "metadata": {},
   "source": [
    "All the examples check out, so run the problem."
   ]
  },
  {
   "cell_type": "code",
   "execution_count": 15,
   "metadata": {},
   "outputs": [
    {
     "name": "stdout",
     "output_type": "stream",
     "text": [
      "(Asteroid(22, 28), 326)\n"
     ]
    }
   ],
   "source": [
    "with open('day10_input.txt', 'r') as infile:\n",
    "    part1_str = infile.read()\n",
    "part1(part1_str)"
   ]
  },
  {
   "cell_type": "markdown",
   "metadata": {},
   "source": [
    "# Part 2"
   ]
  },
  {
   "cell_type": "markdown",
   "metadata": {},
   "source": [
    "For this part the Asteroids need a couple new capabilities. \n",
    "\n",
    "First, I need to be able to sort the other visible Asteroids by angle, ascending from 0 to 360. That will be used to do the clockwise laser sweep and destroy Asteroids as they're encountered. I also need to calculate the distance between Asteroids, so that if there are overlapping Asteroids I can tell which one gets destroyed first by the laser. I'll make a new `targets` dict to track angle and distance per Asteroid.\n",
    "\n",
    "I also need to track the order in which Asteroids are destroyed, since the puzzle requires knowing the 200th one in particular. Knowing all of them will be helpful for checking the example. I'll make a `destroyed` list for that.\n",
    "\n",
    "Finally I'll need some functions to add a target asteroid (which will get angle and distance), sort targets by angle and distance, and do the laser firing."
   ]
  },
  {
   "cell_type": "code",
   "execution_count": 16,
   "metadata": {},
   "outputs": [],
   "source": [
    "from typing import Tuple\n",
    "from math import sqrt\n",
    "\n",
    "@dataclass\n",
    "class Asteroid2(Asteroid):\n",
    "    # Elements of targets will be Asteroid: (angle, distance)\n",
    "    targets: Dict[object, Tuple[float, float]] = field(default_factory=dict)\n",
    "    destroyed: list = field(default_factory=list)\n",
    "    \n",
    "    def add_target(self, target):\n",
    "        \"\"\"Add Asteroid target to self.targets as target: (angle, distance).\"\"\"\n",
    "        super().add_angle(target)\n",
    "        self.targets[target] = (self.angles[target], self.distance(target))\n",
    "        \n",
    "    def distance(self, target):\n",
    "        \"\"\"Returns the distance from self to target.\"\"\"\n",
    "        dx = self.x - target.x\n",
    "        dy = self.y - target.y\n",
    "        return sqrt(dx**2 + dy**2)\n",
    "    \n",
    "    def sort_targets(self):\n",
    "        \"\"\"In-place sort the targets dict by ascending angle and distance.\n",
    "        \n",
    "        Asteroids with overlapping angles will be ordered closest to furthest.\n",
    "        So if targets = {A: (120, 5), B: (38, 6), C: (38, 2)} before sort, \n",
    "        after sort it will be targets = {C: (38, 2), B: (38, 6), A: (120, 5)}\n",
    "        \"\"\"\n",
    "        # Sort targets by angle first.\n",
    "        angle_sort = {k:v for k,v in sorted(self.targets.items(), key=lambda item: item[1][0])}\n",
    "        # Empty dict for our sorted results\n",
    "        sorted_dict = {}\n",
    "        \n",
    "        # We may have multiple targets at given angle, so we need to sort those targets\n",
    "        # by ascending distance.        \n",
    "        # Get a set of the unique angles in ascending order, then iterate through them\n",
    "        angle_set = sorted(set(v[0] for v in self.targets.values()))\n",
    "        for angle in angle_set:\n",
    "            # Storage for overlapping asteroids to be sorted by distance\n",
    "            overlapping = {}\n",
    "            # Iterate over a copy of angle_sort.items() because we're going to mutate\n",
    "            # angle_sort during the loop.\n",
    "            for k,v in list(angle_sort.items()).copy():\n",
    "                if v[0] == angle:\n",
    "                    # If angle matches, add to overlapping to be sorted. Remove from angle_sort\n",
    "                    # so we don't have to iterate over it on the next angle.\n",
    "                    overlapping[k] = v\n",
    "                    del angle_sort[k]\n",
    "                else:\n",
    "                    # If we reach a target with a different angle, stop since we've\n",
    "                    # got all the overlaps at the current angle\n",
    "                    break\n",
    "            # Sort overlapping by distance\n",
    "            overlapping = {k:v for k,v in sorted(overlapping.items(), key=lambda item: item[1][1])}\n",
    "            \n",
    "            sorted_dict.update(overlapping)\n",
    "        \n",
    "        self.targets = sorted_dict\n",
    "    \n",
    "    def fire_ze_laser(self):\n",
    "        \"\"\"Add targets to self.destroyed in the order they are destroyed.\"\"\"\n",
    "        while len(self.destroyed) < len(self.targets):\n",
    "            # Do a single pass over the targets list, only destroying the first\n",
    "            # target in any overlaps\n",
    "            last_angle = None\n",
    "            for k,v in self.targets.items():\n",
    "                if v[0] != last_angle and k not in self.destroyed:\n",
    "                    self.destroyed.append(k)\n",
    "                    last_angle = v[0]\n",
    "    \n",
    "    def __hash__(self):\n",
    "        return super().__hash__()\n",
    "    \n",
    "    def __repr__(self):\n",
    "        return f'Asteroid2({self.x}, {self.y})'"
   ]
  },
  {
   "cell_type": "markdown",
   "metadata": {},
   "source": [
    "Need a new parsing function to make Asteroid2 instances rather than Asteroid instances."
   ]
  },
  {
   "cell_type": "code",
   "execution_count": 17,
   "metadata": {},
   "outputs": [],
   "source": [
    "def parse_input_p2(in_str):\n",
    "    \"\"\"Return a list of Asteroid2 from a map string. # is an Asteroid, any other character is empty.\n",
    "    \n",
    "    Same as part1 parse, but uses the new Asteroid2.\n",
    "    \"\"\"\n",
    "    asteroids = []\n",
    "    rows = in_str.split('\\n')\n",
    "    for y, row in enumerate(rows):\n",
    "        for x, char in enumerate(row):\n",
    "            if char == '#':\n",
    "                asteroids.append(Asteroid2(x, y))\n",
    "    return asteroids"
   ]
  },
  {
   "cell_type": "markdown",
   "metadata": {},
   "source": [
    "For the first example in part 2, the laser station is at (8,3). Check that I get that result using the method from part 1:"
   ]
  },
  {
   "cell_type": "code",
   "execution_count": 18,
   "metadata": {},
   "outputs": [
    {
     "name": "stdout",
     "output_type": "stream",
     "text": [
      "Asteroid2(8, 3)\n"
     ]
    }
   ],
   "source": [
    "p2ex1_str = \"\"\".#....#####...#..\n",
    "##...##.#####..##\n",
    "##...#...#.#####.\n",
    "..#.....#...###..\n",
    "..#.#.....#....##\"\"\"\n",
    "p2ex1_rocks = parse_input_p2(p2ex1_str)\n",
    "calc_all_angles(p2ex1_rocks)\n",
    "p2ex1_station, num_vis = max_num_visible(p2ex1_rocks)\n",
    "print(p2ex1_station)"
   ]
  },
  {
   "cell_type": "markdown",
   "metadata": {},
   "source": [
    "Now that I know the laser station, I need a function to populate and sort the station's target list. I need to take the asteroid list, remove the station, add every other asteroid to the station's target list, then do the angle/distance sort. Then everything will be ready to FIRE ZE LASER."
   ]
  },
  {
   "cell_type": "code",
   "execution_count": 19,
   "metadata": {},
   "outputs": [],
   "source": [
    "def assign_targets(asteroid, asteroids):\n",
    "    \"\"\"Add all elements of asteroids to asteroid's target list, except itself.\"\"\"\n",
    "    # Remove the laser asteroid from the list, then add all the rest as targets\n",
    "    targets = asteroids.copy()\n",
    "    targets.remove(asteroid)\n",
    "    for target in targets:\n",
    "        asteroid.add_target(target)\n",
    "    asteroid.sort_targets()"
   ]
  },
  {
   "cell_type": "markdown",
   "metadata": {},
   "source": [
    "To test, the first 5 asteroids to be destroyed should be: (8,1), (9,0), (9,1), (10,0), (9,2). Printing the station's target list, check the first five asteroids that will be destroyed, remembering that only the first asteroid at a given angle will be destroyed on the first run."
   ]
  },
  {
   "cell_type": "code",
   "execution_count": 20,
   "metadata": {},
   "outputs": [
    {
     "name": "stdout",
     "output_type": "stream",
     "text": [
      "[(Asteroid2(8, 1), (0.0, 2.0)), (Asteroid2(8, 0), (0.0, 3.0)), (Asteroid2(9, 0), (18.43494882292201, 3.1622776601683795)), (Asteroid2(9, 1), (26.56505117707799, 2.23606797749979)), (Asteroid2(10, 0), (33.690067525979785, 3.605551275463989)), (Asteroid2(9, 2), (45.0, 1.4142135623730951)), (Asteroid2(10, 1), (45.0, 2.8284271247461903)), (Asteroid2(11, 1), (56.309932474020215, 3.605551275463989)), (Asteroid2(12, 1), (63.43494882292201, 4.47213595499958)), (Asteroid2(14, 0), (63.43494882292201, 6.708203932499369))]\n"
     ]
    }
   ],
   "source": [
    "assign_targets(p2ex1_station, p2ex1_rocks)\n",
    "print(list(p2ex1_station.targets.items())[:10])"
   ]
  },
  {
   "cell_type": "markdown",
   "metadata": {},
   "source": [
    "Reading the above: (8,1) is destroyed, (8,0) is skipped, (9,0) is destroyed, (9,1) is destroyed, (10,0) is destroyed, (9,2) is destroyed, and so on. Looks like it's working correctly.\n",
    "\n",
    "Finally, fire the laser and check the destroyed list against the example text. Starts with (8,1), (9,0), (9,1) and ends with (16,1), (13,3), (14,3)."
   ]
  },
  {
   "cell_type": "code",
   "execution_count": 21,
   "metadata": {},
   "outputs": [
    {
     "name": "stdout",
     "output_type": "stream",
     "text": [
      "[Asteroid2(8, 1), Asteroid2(9, 0), Asteroid2(9, 1), Asteroid2(10, 0), Asteroid2(9, 2), Asteroid2(11, 1), Asteroid2(12, 1), Asteroid2(11, 2), Asteroid2(15, 1), Asteroid2(12, 2), Asteroid2(13, 2), Asteroid2(14, 2), Asteroid2(15, 2), Asteroid2(12, 3), Asteroid2(16, 4), Asteroid2(15, 4), Asteroid2(10, 4), Asteroid2(4, 4), Asteroid2(2, 4), Asteroid2(2, 3), Asteroid2(0, 2), Asteroid2(1, 2), Asteroid2(0, 1), Asteroid2(1, 1), Asteroid2(5, 2), Asteroid2(1, 0), Asteroid2(5, 1), Asteroid2(6, 1), Asteroid2(6, 0), Asteroid2(7, 0), Asteroid2(8, 0), Asteroid2(10, 1), Asteroid2(14, 0), Asteroid2(16, 1), Asteroid2(13, 3), Asteroid2(14, 3)]\n"
     ]
    }
   ],
   "source": [
    "p2ex1_station.fire_ze_laser()\n",
    "print(p2ex1_station.destroyed)"
   ]
  },
  {
   "cell_type": "markdown",
   "metadata": {},
   "source": [
    "Looking good! Now make a function to tie all of the part 2 pieces together and try it on the second example, which is the same map as part 1 example 5. Station is at (11,13)."
   ]
  },
  {
   "cell_type": "code",
   "execution_count": 22,
   "metadata": {},
   "outputs": [],
   "source": [
    "def part2(input_str):\n",
    "    asteroids = parse_input_p2(input_str)\n",
    "    calc_all_angles(asteroids)\n",
    "    station, num_vis = max_num_visible(asteroids)\n",
    "    print(f'Station: {station}')\n",
    "    assign_targets(station, asteroids)\n",
    "    station.fire_ze_laser()\n",
    "    return station.destroyed"
   ]
  },
  {
   "cell_type": "code",
   "execution_count": 23,
   "metadata": {},
   "outputs": [
    {
     "name": "stdout",
     "output_type": "stream",
     "text": [
      "Station: Asteroid2(11, 13)\n",
      "#1 destroyed: Asteroid2(11, 12)\n",
      "#2 destroyed: Asteroid2(12, 1)\n",
      "#3 destroyed: Asteroid2(12, 2)\n",
      "#10 destroyed: Asteroid2(12, 8)\n",
      "#20 destroyed: Asteroid2(16, 0)\n",
      "#50 destroyed: Asteroid2(16, 9)\n",
      "#100 destroyed: Asteroid2(10, 16)\n",
      "#199 destroyed: Asteroid2(9, 6)\n",
      "#200 destroyed: Asteroid2(8, 2)\n",
      "#201 destroyed: Asteroid2(10, 9)\n",
      "#299 destroyed: Asteroid2(11, 1)\n"
     ]
    }
   ],
   "source": [
    "destroyed = part2(ex5_str)\n",
    "for i in [1, 2, 3, 10, 20, 50, 100, 199, 200, 201, 299]:\n",
    "    print(f'#{i} destroyed: {destroyed[i-1]}')"
   ]
  },
  {
   "cell_type": "markdown",
   "metadata": {},
   "source": [
    "All correct! Now run the problem:"
   ]
  },
  {
   "cell_type": "code",
   "execution_count": 24,
   "metadata": {},
   "outputs": [
    {
     "name": "stdout",
     "output_type": "stream",
     "text": [
      "Station: Asteroid2(22, 28)\n",
      "200th destroyed: Asteroid2(16, 23)\n",
      "1623\n"
     ]
    }
   ],
   "source": [
    "with open('day10_input.txt', 'r') as infile:\n",
    "    input_str = infile.read()\n",
    "destroyed = part2(input_str)\n",
    "print(f'200th destroyed: {destroyed[199]}')\n",
    "print(destroyed[199].x*100 + destroyed[199].y)"
   ]
  }
 ],
 "metadata": {
  "kernelspec": {
   "display_name": "Python 3",
   "language": "python",
   "name": "python3"
  },
  "language_info": {
   "codemirror_mode": {
    "name": "ipython",
    "version": 3
   },
   "file_extension": ".py",
   "mimetype": "text/x-python",
   "name": "python",
   "nbconvert_exporter": "python",
   "pygments_lexer": "ipython3",
   "version": "3.7.4"
  }
 },
 "nbformat": 4,
 "nbformat_minor": 2
}
