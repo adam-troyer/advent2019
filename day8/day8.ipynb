{
 "cells": [
  {
   "cell_type": "markdown",
   "metadata": {},
   "source": [
    "# Part 1"
   ]
  },
  {
   "cell_type": "markdown",
   "metadata": {},
   "source": [
    "First, I want to break the flattened input string into layers."
   ]
  },
  {
   "cell_type": "code",
   "execution_count": 1,
   "metadata": {},
   "outputs": [],
   "source": [
    "import numpy as np\n",
    "\n",
    "def separate_layers(image_str, width, height):\n",
    "    \"\"\"Returns the image as np.ndarray[layer, row, column]\"\"\"\n",
    "    flat = np.fromiter((int(s) for s in image_str), dtype=int)\n",
    "    # Reshape order is layers, rows, columns\n",
    "    layers = flat.reshape((-1, height, width))\n",
    "    return layers"
   ]
  },
  {
   "cell_type": "markdown",
   "metadata": {},
   "source": [
    "Check if this is working right. First index of the returned array should be the layer number, second should be row, third should be column."
   ]
  },
  {
   "cell_type": "code",
   "execution_count": 2,
   "metadata": {},
   "outputs": [
    {
     "name": "stdout",
     "output_type": "stream",
     "text": [
      "[[[1 2 3]\n",
      "  [4 5 6]]\n",
      "\n",
      " [[7 8 9]\n",
      "  [0 1 2]]]\n",
      "[[1 2 3]\n",
      " [4 5 6]]\n",
      "[1 2 3]\n",
      "[0 1 2]\n"
     ]
    }
   ],
   "source": [
    "example_str = '123456789012'\n",
    "layers = separate_layers(example_str, width=3, height=2)\n",
    "print(layers)\n",
    "print(layers[0])    # [[1 2 3] [4 5 6]]\n",
    "print(layers[0,0])  # [1 2 3]\n",
    "print(layers[1,1])  # [0 1 2]"
   ]
  },
  {
   "cell_type": "markdown",
   "metadata": {},
   "source": [
    "`np.unique` will provide counts of all digits in the layers, so that buys me both the 0 counts and the 1 and 2 counts. So, make one function to get the digit counts for each layer, then another to check the 0 counts so I can pick the right layer."
   ]
  },
  {
   "cell_type": "code",
   "execution_count": 3,
   "metadata": {},
   "outputs": [],
   "source": [
    "def digit_counts(layer):\n",
    "    \"\"\"For a layer, returns {value1:count, value2:count, ...}\"\"\"\n",
    "    values, counts = np.unique(layer, return_counts=True)\n",
    "    return dict(zip(values, counts))"
   ]
  },
  {
   "cell_type": "code",
   "execution_count": 4,
   "metadata": {},
   "outputs": [],
   "source": [
    "def zeros_and_counts(layers):\n",
    "    \"\"\"Return (num zeros, counts dict) for each layer in layers.\"\"\"\n",
    "    counts = []\n",
    "    for layer in layers[:]:\n",
    "        count = digit_counts(layer)\n",
    "        try:\n",
    "            zeros = count[0]\n",
    "        except KeyError:\n",
    "            # Layer has no 0\n",
    "            zeros = 0\n",
    "        counts.append((zeros, count))\n",
    "    return counts"
   ]
  },
  {
   "cell_type": "markdown",
   "metadata": {},
   "source": [
    "Now pull the elements together for part 1. Split up the layers, get the zero counts and digit counts, find the layer with the fewest zeros, then multiply the count of 1s by the count of 2s in that layer."
   ]
  },
  {
   "cell_type": "code",
   "execution_count": 5,
   "metadata": {},
   "outputs": [],
   "source": [
    "def part1(input_str, width, height):\n",
    "    layers = separate_layers(input_str, width, height)\n",
    "    counts = zeros_and_counts(layers)\n",
    "    # Sort low to high by number of 0s\n",
    "    counts.sort(key=lambda x:x[0])\n",
    "    # Grab the count dict for the layer with the fewest zeros (the first element in counts), then\n",
    "    # multiply the # of 1s by the # of 2s\n",
    "    layer_counts = counts[0][1]\n",
    "    return layer_counts[1]*layer_counts[2]"
   ]
  },
  {
   "cell_type": "markdown",
   "metadata": {},
   "source": [
    "For the example, layer 1 has the fewest 0s (0), and has one 1 and one 2, so the answer will be 1."
   ]
  },
  {
   "cell_type": "code",
   "execution_count": 6,
   "metadata": {},
   "outputs": [
    {
     "name": "stdout",
     "output_type": "stream",
     "text": [
      "1\n"
     ]
    }
   ],
   "source": [
    "print(part1(example_str, 3, 2))"
   ]
  },
  {
   "cell_type": "markdown",
   "metadata": {},
   "source": [
    "Now run the problem input."
   ]
  },
  {
   "cell_type": "code",
   "execution_count": 7,
   "metadata": {},
   "outputs": [
    {
     "name": "stdout",
     "output_type": "stream",
     "text": [
      "2159\n"
     ]
    }
   ],
   "source": [
    "with open('day8_input.txt', 'r') as infile:\n",
    "    input_str = infile.read().strip()\n",
    "print(part1(input_str, width=25, height=6))"
   ]
  },
  {
   "cell_type": "markdown",
   "metadata": {},
   "source": [
    "# Part 2"
   ]
  },
  {
   "cell_type": "markdown",
   "metadata": {},
   "source": [
    "For this part, for each pixel in the image I need to iterate through the layers and return the first occurence of either 0 or 1. 2s get passed over since they are transparent.\n",
    "\n",
    "First, construct the example."
   ]
  },
  {
   "cell_type": "code",
   "execution_count": 8,
   "metadata": {},
   "outputs": [
    {
     "name": "stdout",
     "output_type": "stream",
     "text": [
      "[[[0 2]\n",
      "  [2 2]]\n",
      "\n",
      " [[1 1]\n",
      "  [2 2]]\n",
      "\n",
      " [[2 2]\n",
      "  [1 2]]\n",
      "\n",
      " [[0 0]\n",
      "  [0 0]]]\n"
     ]
    }
   ],
   "source": [
    "example_str = '0222112222120000'\n",
    "ex_layers = separate_layers(example_str, width=2, height=2)\n",
    "print(ex_layers)"
   ]
  },
  {
   "cell_type": "code",
   "execution_count": 9,
   "metadata": {},
   "outputs": [],
   "source": [
    "def decode_image(layers):\n",
    "    # Initialize the single-layer decoded image\n",
    "    decoded_image = np.empty(tuple(layers.shape[1:]), dtype=int)\n",
    "    \n",
    "    # Look down the layers for each pixel, find the first non-2 digit and put it in the output\n",
    "    for row in range(layers.shape[1]):\n",
    "        for col in range(layers.shape[2]):\n",
    "            layer = layers[:, row, col]\n",
    "            for v in layer:\n",
    "                if v in [0, 1]:\n",
    "                    decoded_image[row, col] = v\n",
    "                    break\n",
    "    return decoded_image"
   ]
  },
  {
   "cell_type": "markdown",
   "metadata": {},
   "source": [
    "Test with the example. Output should be:\n",
    "\n",
    "0 1<br>\n",
    "1 0"
   ]
  },
  {
   "cell_type": "code",
   "execution_count": 10,
   "metadata": {},
   "outputs": [
    {
     "name": "stdout",
     "output_type": "stream",
     "text": [
      "[[0 1]\n",
      " [1 0]]\n"
     ]
    }
   ],
   "source": [
    "print(decode_image(ex_layers))"
   ]
  },
  {
   "cell_type": "markdown",
   "metadata": {},
   "source": [
    "Now the puzzle input:"
   ]
  },
  {
   "cell_type": "code",
   "execution_count": 11,
   "metadata": {},
   "outputs": [
    {
     "name": "stdout",
     "output_type": "stream",
     "text": [
      "[[0 1 1 0 0 0 0 1 1 0 1 1 1 1 0 1 0 0 1 0 1 1 1 0 0]\n",
      " [1 0 0 1 0 0 0 0 1 0 0 0 0 1 0 1 0 0 1 0 1 0 0 1 0]\n",
      " [1 0 0 0 0 0 0 0 1 0 0 0 1 0 0 1 1 1 1 0 1 0 0 1 0]\n",
      " [1 0 0 0 0 0 0 0 1 0 0 1 0 0 0 1 0 0 1 0 1 1 1 0 0]\n",
      " [1 0 0 1 0 1 0 0 1 0 1 0 0 0 0 1 0 0 1 0 1 0 1 0 0]\n",
      " [0 1 1 0 0 0 1 1 0 0 1 1 1 1 0 1 0 0 1 0 1 0 0 1 0]]\n"
     ]
    }
   ],
   "source": [
    "layers = separate_layers(input_str, width=25, height=6)\n",
    "print(decode_image(layers))"
   ]
  },
  {
   "cell_type": "markdown",
   "metadata": {},
   "source": [
    "Looks like: C J Z H R"
   ]
  }
 ],
 "metadata": {
  "kernelspec": {
   "display_name": "Python 3",
   "language": "python",
   "name": "python3"
  },
  "language_info": {
   "codemirror_mode": {
    "name": "ipython",
    "version": 3
   },
   "file_extension": ".py",
   "mimetype": "text/x-python",
   "name": "python",
   "nbconvert_exporter": "python",
   "pygments_lexer": "ipython3",
   "version": "3.7.4"
  }
 },
 "nbformat": 4,
 "nbformat_minor": 2
}
